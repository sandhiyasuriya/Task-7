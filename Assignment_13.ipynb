{
  "nbformat": 4,
  "nbformat_minor": 0,
  "metadata": {
    "colab": {
      "provenance": [],
      "include_colab_link": true
    },
    "kernelspec": {
      "name": "python3",
      "display_name": "Python 3"
    },
    "language_info": {
      "name": "python"
    }
  },
  "cells": [
    {
      "cell_type": "markdown",
      "metadata": {
        "id": "view-in-github",
        "colab_type": "text"
      },
      "source": [
        "<a href=\"https://colab.research.google.com/github/sandhiyasuriya/Task-7/blob/main/Assignment_13.ipynb\" target=\"_parent\"><img src=\"https://colab.research.google.com/assets/colab-badge.svg\" alt=\"Open In Colab\"/></a>"
      ]
    },
    {
      "cell_type": "code",
      "source": [
        "#Social_Networks_Ads.csv"
      ],
      "metadata": {
        "id": "HeXYlZ7RZrug"
      },
      "execution_count": null,
      "outputs": []
    },
    {
      "cell_type": "markdown",
      "source": [
        "Importing the libraries"
      ],
      "metadata": {
        "id": "gyw8UtQuZsKU"
      }
    },
    {
      "cell_type": "code",
      "execution_count": null,
      "metadata": {
        "id": "aXXTkdLuIpEH"
      },
      "outputs": [],
      "source": [
        "import pandas as pd\n",
        "import numpy as np\n",
        "import matplotlib.pyplot as plt\n",
        "import seaborn as sns\n"
      ]
    },
    {
      "cell_type": "markdown",
      "source": [
        "Importing the dataset"
      ],
      "metadata": {
        "id": "Pz1knzKCZuib"
      }
    },
    {
      "cell_type": "code",
      "source": [
        "data = pd.read_csv('/content/Social_Network_Ads.csv')\n",
        "data.head()"
      ],
      "metadata": {
        "colab": {
          "base_uri": "https://localhost:8080/",
          "height": 206
        },
        "id": "XlcmkCboIxW1",
        "outputId": "9118f5bd-17a9-44e7-f539-bb5b3e6a250b"
      },
      "execution_count": null,
      "outputs": [
        {
          "output_type": "execute_result",
          "data": {
            "text/plain": [
              "    User ID  Gender  Age  EstimatedSalary  Purchased\n",
              "0  15624510    Male   19            19000          0\n",
              "1  15810944    Male   35            20000          0\n",
              "2  15668575  Female   26            43000          0\n",
              "3  15603246  Female   27            57000          0\n",
              "4  15804002    Male   19            76000          0"
            ],
            "text/html": [
              "\n",
              "  <div id=\"df-43358863-a18d-4af6-bd74-5bed14fa3832\">\n",
              "    <div class=\"colab-df-container\">\n",
              "      <div>\n",
              "<style scoped>\n",
              "    .dataframe tbody tr th:only-of-type {\n",
              "        vertical-align: middle;\n",
              "    }\n",
              "\n",
              "    .dataframe tbody tr th {\n",
              "        vertical-align: top;\n",
              "    }\n",
              "\n",
              "    .dataframe thead th {\n",
              "        text-align: right;\n",
              "    }\n",
              "</style>\n",
              "<table border=\"1\" class=\"dataframe\">\n",
              "  <thead>\n",
              "    <tr style=\"text-align: right;\">\n",
              "      <th></th>\n",
              "      <th>User ID</th>\n",
              "      <th>Gender</th>\n",
              "      <th>Age</th>\n",
              "      <th>EstimatedSalary</th>\n",
              "      <th>Purchased</th>\n",
              "    </tr>\n",
              "  </thead>\n",
              "  <tbody>\n",
              "    <tr>\n",
              "      <th>0</th>\n",
              "      <td>15624510</td>\n",
              "      <td>Male</td>\n",
              "      <td>19</td>\n",
              "      <td>19000</td>\n",
              "      <td>0</td>\n",
              "    </tr>\n",
              "    <tr>\n",
              "      <th>1</th>\n",
              "      <td>15810944</td>\n",
              "      <td>Male</td>\n",
              "      <td>35</td>\n",
              "      <td>20000</td>\n",
              "      <td>0</td>\n",
              "    </tr>\n",
              "    <tr>\n",
              "      <th>2</th>\n",
              "      <td>15668575</td>\n",
              "      <td>Female</td>\n",
              "      <td>26</td>\n",
              "      <td>43000</td>\n",
              "      <td>0</td>\n",
              "    </tr>\n",
              "    <tr>\n",
              "      <th>3</th>\n",
              "      <td>15603246</td>\n",
              "      <td>Female</td>\n",
              "      <td>27</td>\n",
              "      <td>57000</td>\n",
              "      <td>0</td>\n",
              "    </tr>\n",
              "    <tr>\n",
              "      <th>4</th>\n",
              "      <td>15804002</td>\n",
              "      <td>Male</td>\n",
              "      <td>19</td>\n",
              "      <td>76000</td>\n",
              "      <td>0</td>\n",
              "    </tr>\n",
              "  </tbody>\n",
              "</table>\n",
              "</div>\n",
              "      <button class=\"colab-df-convert\" onclick=\"convertToInteractive('df-43358863-a18d-4af6-bd74-5bed14fa3832')\"\n",
              "              title=\"Convert this dataframe to an interactive table.\"\n",
              "              style=\"display:none;\">\n",
              "        \n",
              "  <svg xmlns=\"http://www.w3.org/2000/svg\" height=\"24px\"viewBox=\"0 0 24 24\"\n",
              "       width=\"24px\">\n",
              "    <path d=\"M0 0h24v24H0V0z\" fill=\"none\"/>\n",
              "    <path d=\"M18.56 5.44l.94 2.06.94-2.06 2.06-.94-2.06-.94-.94-2.06-.94 2.06-2.06.94zm-11 1L8.5 8.5l.94-2.06 2.06-.94-2.06-.94L8.5 2.5l-.94 2.06-2.06.94zm10 10l.94 2.06.94-2.06 2.06-.94-2.06-.94-.94-2.06-.94 2.06-2.06.94z\"/><path d=\"M17.41 7.96l-1.37-1.37c-.4-.4-.92-.59-1.43-.59-.52 0-1.04.2-1.43.59L10.3 9.45l-7.72 7.72c-.78.78-.78 2.05 0 2.83L4 21.41c.39.39.9.59 1.41.59.51 0 1.02-.2 1.41-.59l7.78-7.78 2.81-2.81c.8-.78.8-2.07 0-2.86zM5.41 20L4 18.59l7.72-7.72 1.47 1.35L5.41 20z\"/>\n",
              "  </svg>\n",
              "      </button>\n",
              "      \n",
              "  <style>\n",
              "    .colab-df-container {\n",
              "      display:flex;\n",
              "      flex-wrap:wrap;\n",
              "      gap: 12px;\n",
              "    }\n",
              "\n",
              "    .colab-df-convert {\n",
              "      background-color: #E8F0FE;\n",
              "      border: none;\n",
              "      border-radius: 50%;\n",
              "      cursor: pointer;\n",
              "      display: none;\n",
              "      fill: #1967D2;\n",
              "      height: 32px;\n",
              "      padding: 0 0 0 0;\n",
              "      width: 32px;\n",
              "    }\n",
              "\n",
              "    .colab-df-convert:hover {\n",
              "      background-color: #E2EBFA;\n",
              "      box-shadow: 0px 1px 2px rgba(60, 64, 67, 0.3), 0px 1px 3px 1px rgba(60, 64, 67, 0.15);\n",
              "      fill: #174EA6;\n",
              "    }\n",
              "\n",
              "    [theme=dark] .colab-df-convert {\n",
              "      background-color: #3B4455;\n",
              "      fill: #D2E3FC;\n",
              "    }\n",
              "\n",
              "    [theme=dark] .colab-df-convert:hover {\n",
              "      background-color: #434B5C;\n",
              "      box-shadow: 0px 1px 3px 1px rgba(0, 0, 0, 0.15);\n",
              "      filter: drop-shadow(0px 1px 2px rgba(0, 0, 0, 0.3));\n",
              "      fill: #FFFFFF;\n",
              "    }\n",
              "  </style>\n",
              "\n",
              "      <script>\n",
              "        const buttonEl =\n",
              "          document.querySelector('#df-43358863-a18d-4af6-bd74-5bed14fa3832 button.colab-df-convert');\n",
              "        buttonEl.style.display =\n",
              "          google.colab.kernel.accessAllowed ? 'block' : 'none';\n",
              "\n",
              "        async function convertToInteractive(key) {\n",
              "          const element = document.querySelector('#df-43358863-a18d-4af6-bd74-5bed14fa3832');\n",
              "          const dataTable =\n",
              "            await google.colab.kernel.invokeFunction('convertToInteractive',\n",
              "                                                     [key], {});\n",
              "          if (!dataTable) return;\n",
              "\n",
              "          const docLinkHtml = 'Like what you see? Visit the ' +\n",
              "            '<a target=\"_blank\" href=https://colab.research.google.com/notebooks/data_table.ipynb>data table notebook</a>'\n",
              "            + ' to learn more about interactive tables.';\n",
              "          element.innerHTML = '';\n",
              "          dataTable['output_type'] = 'display_data';\n",
              "          await google.colab.output.renderOutput(dataTable, element);\n",
              "          const docLink = document.createElement('div');\n",
              "          docLink.innerHTML = docLinkHtml;\n",
              "          element.appendChild(docLink);\n",
              "        }\n",
              "      </script>\n",
              "    </div>\n",
              "  </div>\n",
              "  "
            ]
          },
          "metadata": {},
          "execution_count": 3
        }
      ]
    },
    {
      "cell_type": "markdown",
      "source": [
        "Splitting the dataset into the Training set and Test set"
      ],
      "metadata": {
        "id": "udIG1BJfZyEE"
      }
    },
    {
      "cell_type": "code",
      "source": [
        "X=data.iloc[:,2:4].values\n",
        "y=data.iloc[:,-1].values"
      ],
      "metadata": {
        "id": "pgOonc08KSFr"
      },
      "execution_count": null,
      "outputs": []
    },
    {
      "cell_type": "code",
      "source": [
        "X.shape"
      ],
      "metadata": {
        "colab": {
          "base_uri": "https://localhost:8080/"
        },
        "id": "bMzIHCcxKVd7",
        "outputId": "6864f1a8-149d-44bb-84e8-661a934546a0"
      },
      "execution_count": null,
      "outputs": [
        {
          "output_type": "execute_result",
          "data": {
            "text/plain": [
              "(400, 2)"
            ]
          },
          "metadata": {},
          "execution_count": 5
        }
      ]
    },
    {
      "cell_type": "code",
      "source": [
        "y.shape"
      ],
      "metadata": {
        "colab": {
          "base_uri": "https://localhost:8080/"
        },
        "id": "QpaUvnk2KW3T",
        "outputId": "412dd651-b9fd-4b37-f21a-cadbf33eb573"
      },
      "execution_count": null,
      "outputs": [
        {
          "output_type": "execute_result",
          "data": {
            "text/plain": [
              "(400,)"
            ]
          },
          "metadata": {},
          "execution_count": 6
        }
      ]
    },
    {
      "cell_type": "code",
      "source": [
        "from sklearn.model_selection import train_test_split\n",
        "X_train,X_test,y_train,y_test=train_test_split(X,y,test_size=0.2)"
      ],
      "metadata": {
        "id": "dMr-BGxUKZtz"
      },
      "execution_count": null,
      "outputs": []
    },
    {
      "cell_type": "markdown",
      "source": [
        "Feature Scaling"
      ],
      "metadata": {
        "id": "X4Bj4iyfZ1t8"
      }
    },
    {
      "cell_type": "code",
      "source": [
        "from sklearn.preprocessing import StandardScaler\n",
        "scaler = StandardScaler()"
      ],
      "metadata": {
        "id": "IXkELtp2he28"
      },
      "execution_count": null,
      "outputs": []
    },
    {
      "cell_type": "markdown",
      "source": [
        "Fitting K-NN to the Training set\n",
        "\n"
      ],
      "metadata": {
        "id": "3-x1HKt1hkmG"
      }
    },
    {
      "cell_type": "code",
      "source": [
        "X_train = scaler.fit_transform(X_train)\n",
        "X_train"
      ],
      "metadata": {
        "colab": {
          "base_uri": "https://localhost:8080/"
        },
        "id": "0nUNnygkKdJb",
        "outputId": "97bfe902-d315-4ac9-ff14-6b61ec599c17"
      },
      "execution_count": null,
      "outputs": [
        {
          "output_type": "execute_result",
          "data": {
            "text/plain": [
              "array([[ 0.31600643,  0.28383078],\n",
              "       [-0.25316087,  2.23051409],\n",
              "       [-1.39149548, -0.64592841],\n",
              "       [-0.82232818,  2.25956906],\n",
              "       [-0.15829966,  1.38791982],\n",
              "       [-0.06343844,  0.19666586],\n",
              "       [-0.72746696,  1.88185439],\n",
              "       [-0.9171894 ,  0.42910566],\n",
              "       [-0.82232818, -0.79120328],\n",
              "       [ 0.22114521, -0.32632368],\n",
              "       [-0.25316087, -0.44254358],\n",
              "       [-0.9171894 , -1.110808  ],\n",
              "       [ 0.88517373, -1.37230277],\n",
              "       [-1.67607913,  0.45816063],\n",
              "       [-1.29663426, -1.25608288],\n",
              "       [ 1.92864712,  2.14334916],\n",
              "       [ 2.11836956,  0.92304023],\n",
              "       [ 0.22114521,  0.05139099],\n",
              "       [ 0.6954513 , -0.73309333],\n",
              "       [ 0.03142278,  0.02233601],\n",
              "       [ 0.79031252, -1.110808  ],\n",
              "       [ 0.41086765, -0.15199384],\n",
              "       [ 0.79031252,  1.35886485],\n",
              "       [-1.10691183,  0.40005068],\n",
              "       [ 0.03142278, -0.58781846],\n",
              "       [-1.10691183, -1.60474257],\n",
              "       [ 0.98003495,  0.57438053],\n",
              "       [-0.25316087, -0.67498338],\n",
              "       [ 0.22114521,  0.13855591],\n",
              "       [-0.72746696,  0.25477581],\n",
              "       [ 0.126284  , -0.82025825],\n",
              "       [ 0.22114521, -0.38443363],\n",
              "       [-0.82232818,  0.37099571],\n",
              "       [ 1.07489617, -0.9945881 ],\n",
              "       [-0.25316087, -1.40135775],\n",
              "       [-1.01205061, -0.47159856],\n",
              "       [-0.25316087,  0.13855591],\n",
              "       [ 1.45434104,  0.98115018],\n",
              "       [-1.10691183, -0.79120328],\n",
              "       [-1.01205061,  0.40005068],\n",
              "       [ 0.22114521, -0.26821374],\n",
              "       [ 0.03142278, -0.26821374],\n",
              "       [-0.9171894 ,  0.25477581],\n",
              "       [ 0.88517373,  1.01020515],\n",
              "       [ 1.45434104,  2.11429419],\n",
              "       [-1.77094035,  0.16761089],\n",
              "       [-0.25316087, -0.93647815],\n",
              "       [-0.25316087,  0.25477581],\n",
              "       [-0.25316087, -0.35537866],\n",
              "       [-1.86580157,  0.34194073],\n",
              "       [-0.15829966, -0.21010379],\n",
              "       [-0.25316087,  0.08044596],\n",
              "       [ 0.41086765, -0.18104881],\n",
              "       [ 0.03142278,  0.28383078],\n",
              "       [-1.77094035, -1.28513785],\n",
              "       [ 1.73892469, -0.29726871],\n",
              "       [-0.82232818, -1.2270279 ],\n",
              "       [ 0.126284  ,  1.85279942],\n",
              "       [-1.01205061, -1.54663262],\n",
              "       [ 1.92864712, -1.37230277],\n",
              "       [ 0.03142278,  1.21358997],\n",
              "       [ 1.16975739, -0.9945881 ],\n",
              "       [-0.25316087, -1.37230277],\n",
              "       [-1.67607913,  0.34194073],\n",
              "       [-0.15829966, -0.29726871],\n",
              "       [-0.82232818,  0.13855591],\n",
              "       [ 2.11836956, -0.70403836],\n",
              "       [-1.01205061,  1.93996434],\n",
              "       [-0.72746696,  1.32980987],\n",
              "       [ 1.64406347,  1.59130465],\n",
              "       [-0.72746696, -0.61687343],\n",
              "       [-0.06343844, -0.52970851],\n",
              "       [-1.20177305,  0.48721561],\n",
              "       [-0.25316087, -0.26821374],\n",
              "       [-0.82232818, -0.26821374],\n",
              "       [-1.77094035,  0.42910566],\n",
              "       [ 0.60059008, -0.90742318],\n",
              "       [ 0.88517373, -0.79120328],\n",
              "       [ 1.73892469,  0.98115018],\n",
              "       [ 0.79031252,  0.51627058],\n",
              "       [-0.25316087,  0.77776535],\n",
              "       [-0.44288331,  2.28862404],\n",
              "       [ 1.07489617, -0.90742318],\n",
              "       [-0.44288331,  1.24264495],\n",
              "       [-1.86580157,  0.45816063],\n",
              "       [ 0.22114521, -0.15199384],\n",
              "       [-0.25316087, -0.29726871],\n",
              "       [ 0.88517373, -0.58781846],\n",
              "       [-0.63260574,  0.10950094],\n",
              "       [-1.01205061,  0.74871038],\n",
              "       [ 1.45434104,  0.34194073],\n",
              "       [ 0.22114521, -0.67498338],\n",
              "       [-0.25316087, -0.90742318],\n",
              "       [ 0.03142278,  0.02233601],\n",
              "       [ 0.41086765, -0.15199384],\n",
              "       [ 0.88517373, -0.67498338],\n",
              "       [ 0.41086765, -0.00671896],\n",
              "       [ 0.41086765,  0.25477581],\n",
              "       [-1.29663426, -1.48852267],\n",
              "       [ 0.98003495, -1.19797293],\n",
              "       [ 0.03142278, -0.55876348],\n",
              "       [-1.29663426, -1.37230277],\n",
              "       [-1.01205061, -0.38443363],\n",
              "       [ 2.11836956,  0.37099571],\n",
              "       [ 0.98003495,  0.74871038],\n",
              "       [-1.67607913,  0.10950094],\n",
              "       [ 0.126284  ,  0.08044596],\n",
              "       [ 0.88517373,  1.0683151 ],\n",
              "       [ 0.31600643, -0.32632368],\n",
              "       [ 1.54920226, -0.00671896],\n",
              "       [-0.34802209, -0.79120328],\n",
              "       [-0.15829966,  0.13855591],\n",
              "       [-0.15829966,  1.62035962],\n",
              "       [ 0.98003495,  2.05618424],\n",
              "       [ 0.98003495, -1.08175303],\n",
              "       [-1.4863567 , -1.51757765],\n",
              "       [-0.53774453,  2.31767901],\n",
              "       [-0.25316087, -0.76214831],\n",
              "       [-1.39149548, -1.4594677 ],\n",
              "       [-0.53774453, -1.51757765],\n",
              "       [-0.72746696, -0.23915876],\n",
              "       [-0.9171894 ,  0.48721561],\n",
              "       [ 0.88517373,  2.14334916],\n",
              "       [-1.77094035, -0.00671896],\n",
              "       [ 0.79031252, -1.40135775],\n",
              "       [-1.86580157, -0.76214831],\n",
              "       [-0.63260574,  0.02233601],\n",
              "       [-1.58121792,  0.05139099],\n",
              "       [-0.25316087, -1.25608288],\n",
              "       [ 0.31600643, -0.52970851],\n",
              "       [-1.39149548, -0.21010379],\n",
              "       [-1.29663426,  0.54532556],\n",
              "       [ 0.79031252,  0.25477581],\n",
              "       [ 2.11836956, -0.82025825],\n",
              "       [-0.15829966, -1.08175303],\n",
              "       [-0.06343844,  0.10950094],\n",
              "       [ 0.6954513 ,  0.25477581],\n",
              "       [-1.10691183, -1.60474257],\n",
              "       [ 0.88517373, -1.16891795],\n",
              "       [ 0.126284  , -0.32632368],\n",
              "       [ 0.6954513 , -1.110808  ],\n",
              "       [-0.25316087, -0.32632368],\n",
              "       [ 0.41086765,  0.28383078],\n",
              "       [-1.10691183, -1.02364308],\n",
              "       [ 0.98003495,  1.4169748 ],\n",
              "       [ 0.98003495, -1.08175303],\n",
              "       [-0.25316087,  0.13855591],\n",
              "       [-0.9171894 , -0.96553313],\n",
              "       [-1.67607913,  0.34194073],\n",
              "       [ 0.31600643, -0.55876348],\n",
              "       [ 2.11836956, -0.82025825],\n",
              "       [ 1.83378591, -1.28513785],\n",
              "       [ 0.31600643,  0.48721561],\n",
              "       [-1.58121792, -1.5756876 ],\n",
              "       [ 1.07489617,  0.45816063],\n",
              "       [-0.53774453,  0.45816063],\n",
              "       [-1.86580157, -0.06482891],\n",
              "       [ 0.126284  ,  0.02233601],\n",
              "       [-0.06343844, -0.23915876],\n",
              "       [-1.01205061,  0.57438053],\n",
              "       [ 1.92864712,  0.89398525],\n",
              "       [-0.06343844,  0.28383078],\n",
              "       [ 2.02350834,  0.37099571],\n",
              "       [-0.06343844, -0.38443363],\n",
              "       [-1.4863567 , -1.25608288],\n",
              "       [-0.06343844,  2.20145911],\n",
              "       [ 0.126284  , -0.26821374],\n",
              "       [ 0.31600643,  0.25477581],\n",
              "       [ 1.07489617, -0.15199384],\n",
              "       [ 1.07489617, -1.2270279 ],\n",
              "       [ 0.22114521,  2.08523922],\n",
              "       [-1.67607913, -1.37230277],\n",
              "       [-0.25316087, -1.31419282],\n",
              "       [-1.10691183,  0.45816063],\n",
              "       [-0.9171894 , -0.76214831],\n",
              "       [ 0.31600643,  0.02233601],\n",
              "       [ 0.31600643,  0.05139099],\n",
              "       [-0.44288331, -0.79120328],\n",
              "       [ 0.22114521,  0.13855591],\n",
              "       [-1.10691183, -0.52970851],\n",
              "       [-0.63260574,  1.38791982],\n",
              "       [ 0.50572886,  1.21358997],\n",
              "       [ 0.31600643, -0.73309333],\n",
              "       [ 0.98003495,  1.96901932],\n",
              "       [-0.63260574, -0.12293886],\n",
              "       [-0.82232818, -0.79120328],\n",
              "       [ 0.98003495, -1.16891795],\n",
              "       [ 0.126284  ,  0.13855591],\n",
              "       [ 1.16975739, -0.76214831],\n",
              "       [ 0.41086765,  0.57438053],\n",
              "       [ 0.6954513 ,  1.76563449],\n",
              "       [-0.25316087,  0.19666586],\n",
              "       [-0.06343844,  0.66154546],\n",
              "       [ 2.11836956,  1.09737008],\n",
              "       [-0.63260574,  0.54532556],\n",
              "       [ 1.54920226, -1.28513785],\n",
              "       [ 0.79031252, -0.84931323],\n",
              "       [-0.44288331, -0.03577394],\n",
              "       [ 2.02350834,  0.16761089],\n",
              "       [-0.63260574, -0.06482891],\n",
              "       [ 0.22114521,  1.0683151 ],\n",
              "       [ 0.22114521,  0.02233601],\n",
              "       [-0.82232818,  0.37099571],\n",
              "       [-0.82232818,  0.28383078],\n",
              "       [ 1.92864712, -0.93647815],\n",
              "       [ 0.126284  , -0.82025825],\n",
              "       [-1.01205061, -1.13986298],\n",
              "       [-0.82232818, -0.67498338],\n",
              "       [ 2.02350834, -0.82025825],\n",
              "       [-0.06343844,  0.22572083],\n",
              "       [ 0.50572886,  1.70752454],\n",
              "       [ 1.2646186 , -1.37230277],\n",
              "       [ 0.6954513 , -1.28513785],\n",
              "       [-0.06343844,  0.25477581],\n",
              "       [-1.10691183,  0.05139099],\n",
              "       [-0.72746696,  0.28383078],\n",
              "       [-1.77094035, -1.43041272],\n",
              "       [ 0.03142278, -0.44254358],\n",
              "       [-1.29663426, -0.44254358],\n",
              "       [-0.9171894 , -0.32632368],\n",
              "       [ 1.92864712, -0.67498338],\n",
              "       [ 1.35947982,  2.31767901],\n",
              "       [ 0.79031252, -1.2270279 ],\n",
              "       [-0.15829966, -0.47159856],\n",
              "       [-0.53774453, -1.51757765],\n",
              "       [-1.29663426, -0.35537866],\n",
              "       [ 2.02350834,  0.51627058],\n",
              "       [-1.10691183,  1.38791982],\n",
              "       [ 0.31600643,  0.05139099],\n",
              "       [-0.15829966,  2.14334916],\n",
              "       [-0.25316087, -0.58781846],\n",
              "       [ 0.22114521, -0.29726871],\n",
              "       [ 0.41086765, -0.50065353],\n",
              "       [ 1.2646186 ,  1.85279942],\n",
              "       [ 0.22114521,  0.22572083],\n",
              "       [ 0.79031252,  0.10950094],\n",
              "       [-0.06343844, -0.00671896],\n",
              "       [ 1.07489617,  0.51627058],\n",
              "       [-1.10691183, -1.5756876 ],\n",
              "       [-0.63260574, -1.60474257],\n",
              "       [-1.58121792, -0.06482891],\n",
              "       [-0.15829966,  0.8358753 ],\n",
              "       [-0.06343844,  2.14334916],\n",
              "       [-0.44288331, -1.2270279 ],\n",
              "       [ 0.98003495,  0.10950094],\n",
              "       [-0.72746696,  1.0683151 ],\n",
              "       [-1.58121792,  0.51627058],\n",
              "       [-1.10691183, -1.54663262],\n",
              "       [-0.9171894 , -0.44254358],\n",
              "       [ 1.73892469,  1.82374444],\n",
              "       [-0.25316087, -0.50065353],\n",
              "       [-1.39149548, -1.2270279 ],\n",
              "       [ 2.02350834,  2.11429419],\n",
              "       [-0.06343844, -0.44254358],\n",
              "       [-1.10691183,  0.28383078],\n",
              "       [-1.01205061,  0.54532556],\n",
              "       [-1.10691183,  0.31288576],\n",
              "       [-0.25316087, -1.4594677 ],\n",
              "       [ 0.22114521, -0.38443363],\n",
              "       [ 1.35947982, -1.43041272],\n",
              "       [-0.63260574, -1.51757765],\n",
              "       [ 1.64406347,  1.73657952],\n",
              "       [ 0.88517373, -1.4594677 ],\n",
              "       [-0.53774453,  1.35886485],\n",
              "       [-0.34802209, -1.31419282],\n",
              "       [ 0.41086765,  0.08044596],\n",
              "       [-1.01205061,  0.51627058],\n",
              "       [-0.34802209,  1.21358997],\n",
              "       [-1.4863567 , -0.44254358],\n",
              "       [ 1.07489617,  2.05618424],\n",
              "       [ 0.126284  ,  1.50413972],\n",
              "       [-0.53774453,  1.88185439],\n",
              "       [ 0.03142278,  1.24264495],\n",
              "       [ 0.31600643, -1.16891795],\n",
              "       [-1.10691183, -1.16891795],\n",
              "       [-1.67607913, -0.9945881 ],\n",
              "       [ 0.126284  ,  0.02233601],\n",
              "       [ 0.50572886,  1.82374444],\n",
              "       [ 0.41086765,  0.13855591],\n",
              "       [ 1.35947982,  0.57438053],\n",
              "       [-0.9171894 , -0.32632368],\n",
              "       [ 1.83378591, -0.29726871],\n",
              "       [ 0.03142278, -0.26821374],\n",
              "       [-0.25316087,  1.09737008],\n",
              "       [-0.25316087,  0.02233601],\n",
              "       [ 0.31600643,  0.05139099],\n",
              "       [ 1.35947982,  1.27169992],\n",
              "       [ 0.41086765,  2.28862404],\n",
              "       [-1.01205061, -1.4594677 ],\n",
              "       [ 0.98003495, -1.02364308],\n",
              "       [ 0.88517373, -0.61687343],\n",
              "       [ 0.88517373, -0.55876348],\n",
              "       [-0.06343844,  1.93996434],\n",
              "       [-0.9171894 ,  1.5331947 ],\n",
              "       [ 0.31600643, -0.21010379],\n",
              "       [ 2.02350834,  1.73657952],\n",
              "       [-0.15829966,  1.59130465],\n",
              "       [-1.39149548, -0.12293886],\n",
              "       [ 0.31600643, -0.29726871],\n",
              "       [ 0.6954513 , -1.40135775],\n",
              "       [-1.10691183, -1.110808  ],\n",
              "       [ 1.07489617,  0.10950094],\n",
              "       [-1.20177305,  0.25477581],\n",
              "       [ 0.126284  ,  1.03926013],\n",
              "       [-0.72746696,  0.54532556],\n",
              "       [ 2.02350834, -1.19797293],\n",
              "       [ 0.88517373, -1.05269805],\n",
              "       [-0.06343844,  0.05139099],\n",
              "       [ 0.88517373, -1.31419282],\n",
              "       [ 0.03142278, -0.58781846],\n",
              "       [ 0.126284  ,  0.25477581],\n",
              "       [ 0.98003495,  1.76563449],\n",
              "       [ 0.79031252,  0.34194073],\n",
              "       [ 1.92864712,  0.7196554 ],\n",
              "       [-1.20177305,  0.57438053],\n",
              "       [-0.9171894 ,  0.54532556],\n",
              "       [ 1.45434104, -1.05269805],\n",
              "       [-1.29663426,  0.40005068],\n",
              "       [ 1.16975739,  0.51627058],\n",
              "       [-1.10691183,  0.28383078]])"
            ]
          },
          "metadata": {},
          "execution_count": 10
        }
      ]
    },
    {
      "cell_type": "code",
      "source": [
        "np.sqrt(X_train.shape[0])"
      ],
      "metadata": {
        "colab": {
          "base_uri": "https://localhost:8080/"
        },
        "id": "F_XyGQu_Kimb",
        "outputId": "ee2338cb-8f4f-4270-bbb0-3d3a353c7f92"
      },
      "execution_count": null,
      "outputs": [
        {
          "output_type": "execute_result",
          "data": {
            "text/plain": [
              "17.88854381999832"
            ]
          },
          "metadata": {},
          "execution_count": 11
        }
      ]
    },
    {
      "cell_type": "code",
      "source": [
        "k = 17"
      ],
      "metadata": {
        "id": "Q9gEf7b5KkTT"
      },
      "execution_count": null,
      "outputs": []
    },
    {
      "cell_type": "code",
      "source": [
        "from sklearn.neighbors import KNeighborsClassifier\n",
        "knn = KNeighborsClassifier(n_neighbors=k)"
      ],
      "metadata": {
        "id": "b_vd78GBKlw7"
      },
      "execution_count": null,
      "outputs": []
    },
    {
      "cell_type": "code",
      "source": [
        "knn.fit(X_train,y_train)"
      ],
      "metadata": {
        "colab": {
          "base_uri": "https://localhost:8080/"
        },
        "id": "rXk8DvZEiF9_",
        "outputId": "497996ef-4e03-440f-bb6c-0750f3995eec"
      },
      "execution_count": null,
      "outputs": [
        {
          "output_type": "execute_result",
          "data": {
            "text/plain": [
              "KNeighborsClassifier(n_neighbors=17)"
            ]
          },
          "metadata": {},
          "execution_count": 15
        }
      ]
    },
    {
      "cell_type": "code",
      "source": [
        "y_pred = knn.predict(X_test)"
      ],
      "metadata": {
        "id": "FQmP90OEiK1m"
      },
      "execution_count": null,
      "outputs": []
    },
    {
      "cell_type": "code",
      "source": [
        "y_pred.shape"
      ],
      "metadata": {
        "colab": {
          "base_uri": "https://localhost:8080/"
        },
        "id": "CgbaiBW2iOEW",
        "outputId": "4bdd77fd-71a9-4bd1-f2f6-0202ef2011ed"
      },
      "execution_count": null,
      "outputs": [
        {
          "output_type": "execute_result",
          "data": {
            "text/plain": [
              "(80,)"
            ]
          },
          "metadata": {},
          "execution_count": 17
        }
      ]
    },
    {
      "cell_type": "code",
      "source": [
        "y_test.shape"
      ],
      "metadata": {
        "colab": {
          "base_uri": "https://localhost:8080/"
        },
        "id": "wFzjSeuqiQHr",
        "outputId": "bb9f3a5c-5179-4910-83d7-289ba28c7bc4"
      },
      "execution_count": null,
      "outputs": [
        {
          "output_type": "execute_result",
          "data": {
            "text/plain": [
              "(80,)"
            ]
          },
          "metadata": {},
          "execution_count": 18
        }
      ]
    },
    {
      "cell_type": "markdown",
      "source": [
        "Predicting the Test set results"
      ],
      "metadata": {
        "id": "1TyySUbJiSzp"
      }
    },
    {
      "cell_type": "code",
      "source": [
        "from sklearn.metrics import accuracy_score\n",
        "accuracy_score(y_test,y_pred)"
      ],
      "metadata": {
        "colab": {
          "base_uri": "https://localhost:8080/"
        },
        "id": "1wAj6xMwiVjO",
        "outputId": "04a2b0bc-6c61-43d4-fee7-026e3cdf59a3"
      },
      "execution_count": null,
      "outputs": [
        {
          "output_type": "execute_result",
          "data": {
            "text/plain": [
              "0.35"
            ]
          },
          "metadata": {},
          "execution_count": 19
        }
      ]
    },
    {
      "cell_type": "code",
      "source": [
        "from sklearn.metrics import confusion_matrix\n",
        "confusion_matrix(y_test,y_pred)"
      ],
      "metadata": {
        "colab": {
          "base_uri": "https://localhost:8080/"
        },
        "id": "vsQvINORik01",
        "outputId": "50f861ee-31dc-40cf-b15b-3e012c27ca18"
      },
      "execution_count": null,
      "outputs": [
        {
          "output_type": "execute_result",
          "data": {
            "text/plain": [
              "array([[ 0, 52],\n",
              "       [ 0, 28]])"
            ]
          },
          "metadata": {},
          "execution_count": 20
        }
      ]
    },
    {
      "cell_type": "code",
      "source": [
        "accuracy = []\n",
        "\n",
        "for i in range(1,26):\n",
        "    knn = KNeighborsClassifier(n_neighbors=i)\n",
        "    knn.fit(X_train,y_train)\n",
        "    accuracy.append(accuracy_score(y_test,knn.predict(X_test)))"
      ],
      "metadata": {
        "id": "X_OtmXUvisLV"
      },
      "execution_count": null,
      "outputs": []
    }
  ]
}